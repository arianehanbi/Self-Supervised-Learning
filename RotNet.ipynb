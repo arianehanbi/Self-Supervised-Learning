{
  "nbformat": 4,
  "nbformat_minor": 0,
  "metadata": {
    "accelerator": "GPU",
    "colab": {
      "name": "Copy of ATML21_Assignment3.ipynb",
      "provenance": [],
      "collapsed_sections": []
    },
    "kernelspec": {
      "display_name": "Python 3",
      "language": "python",
      "name": "python3"
    },
    "language_info": {
      "codemirror_mode": {
        "name": "ipython",
        "version": 3
      },
      "file_extension": ".py",
      "mimetype": "text/x-python",
      "name": "python",
      "nbconvert_exporter": "python",
      "pygments_lexer": "ipython3",
      "version": "3.9.2"
    }
  },
  "cells": [
    {
      "cell_type": "code",
      "metadata": {
        "id": "V6-_dU4fkR2j"
      },
      "source": [
        "import os\n",
        "import numpy as np\n",
        "from torch.utils.data import Dataset, DataLoader, Subset, random_split\n",
        "import torch\n",
        "import torch.nn as nn\n",
        "import torchvision.transforms as transforms\n",
        "import torch.optim as optim\n",
        "import torchvision.transforms.functional as TF\n",
        "\n",
        "import matplotlib.pyplot as plt\n",
        "import PIL.Image as Image\n",
        "import pandas as pd\n",
        "import random\n",
        "\n",
        "import torch.nn.init as init\n",
        "import torch.nn.functional as F\n",
        "from torch.autograd import Variable\n",
        "import torchvision.models as models\n",
        "from torchsummary import summary\n",
        "from copy import deepcopy\n",
        "\n",
        "device = torch.device(\"cuda:0\" if torch.cuda.is_available() else \"cpu\")"
      ],
      "execution_count": null,
      "outputs": []
    },
    {
      "cell_type": "markdown",
      "metadata": {
        "id": "yQRn2YSPpRsr"
      },
      "source": [
        "# Prepare the dataset"
      ]
    },
    {
      "cell_type": "code",
      "metadata": {
        "id": "RJqIEYWRpR-m"
      },
      "source": [
        "!gdown --id 13Q-n32Bkf8-njeTkV2c-MaWb5S0byowq\n",
        "!mkdir atml-assignment-3\n",
        "!unzip atml-assignment-3-data.zip -d atml-assignment-3"
      ],
      "execution_count": null,
      "outputs": []
    },
    {
      "cell_type": "code",
      "metadata": {
        "id": "OsfoZUSF67ct"
      },
      "source": [
        "class LabeledDataset(Dataset):\n",
        "    def __init__(self, folder_path, phase='train', transform=None):\n",
        "        super(LabeledDataset, self).__init__()\n",
        "        self.phase = phase\n",
        "        if self.phase == 'train':\n",
        "            file_path = os.path.join(folder_path, 'train_32x32_500_label.npz')\n",
        "        elif self.phase == 'val':\n",
        "            file_path = os.path.join(folder_path, 'test_32x32_2000_label.npz')\n",
        "        elif self.phase == 'test':\n",
        "            file_path = os.path.join(folder_path, 'test_32x32_competition.npy')\n",
        "        else:\n",
        "            print('Unrecognized phase')\n",
        "        data_load = np.load(file_path)\n",
        "        \n",
        "        if self.phase != 'test':\n",
        "            self.dataset = data_load['img']\n",
        "            self.labels = data_load['label'].astype('int64')\n",
        "        else:\n",
        "            self.dataset = data_load\n",
        "            \n",
        "        self.transform = transform\n",
        "        \n",
        "    def __getitem__(self, index): \n",
        "        img_index = Image.fromarray(self.dataset[index,:])\n",
        "        if self.phase != 'test':\n",
        "            return self.transform(img_index), self.labels[index,0]\n",
        "        else:\n",
        "            return self.transform(img_index)\n",
        "\n",
        "    def __len__(self):\n",
        "        return self.dataset.shape[0]"
      ],
      "execution_count": null,
      "outputs": []
    },
    {
      "cell_type": "code",
      "metadata": {
        "id": "B5EJ8_pj8WU0"
      },
      "source": [
        "class RotationDataset(Dataset):\n",
        "    def __init__(self, folder_path, phase='unlabel', transform=None):\n",
        "        super(RotationDataset, self).__init__()\n",
        "        self.phase = phase\n",
        "        self.dataset = np.load(os.path.join(folder_path, 'train_32x32_unlabel.npy'))\n",
        "        self.transform = transform\n",
        "        \n",
        "    def __getitem__(self, index): \n",
        "        img_index = Image.fromarray(self.dataset[index,:])\n",
        "        rotation = np.random.randint(4)\n",
        "        rotated_img = img_index.rotate(rotation * 90)\n",
        "        return self.transform(rotated_img), rotation\n",
        "\n",
        "    def __len__(self):\n",
        "        return self.dataset.shape[0]"
      ],
      "execution_count": null,
      "outputs": []
    },
    {
      "cell_type": "code",
      "metadata": {
        "id": "3kJQbFYN1bW2"
      },
      "source": [
        "transform = transforms.Compose([\n",
        "                                transforms.ColorJitter(0.2,0.4,0.5),\n",
        "                                transforms.ToTensor(),\n",
        "                                transforms.Normalize((0.5, 0.5, 0.5), (0.5, 0.5, 0.5))\n",
        "                                ])\n",
        "\n",
        "train_set = LabeledDataset('./atml-assignment-3', phase='train', transform=transform)\n",
        "val_set   = LabeledDataset('./atml-assignment-3', phase='val',   transform=transform)\n",
        "test_set  = LabeledDataset('./atml-assignment-3', phase='test',  transform=transform)\n",
        "unlabel_set = RotationDataset('./atml-assignment-3', phase='unlabel', transform=transform)\n",
        "\n",
        "\n",
        "batch_size = 32\n",
        "train_loader = DataLoader(train_set, batch_size=batch_size, shuffle=True,  num_workers=2)\n",
        "val_loader   = DataLoader(val_set,   batch_size=batch_size, shuffle=False, num_workers=2)\n",
        "test_loader  = DataLoader(test_set,  batch_size=batch_size, shuffle=False, num_workers=2)\n",
        "unlabel_loader = DataLoader(unlabel_set, batch_size=batch_size, shuffle=True,  num_workers=2)"
      ],
      "execution_count": null,
      "outputs": []
    },
    {
      "cell_type": "code",
      "metadata": {
        "colab": {
          "base_uri": "https://localhost:8080/",
          "height": 306
        },
        "id": "o4B73vMKviwE",
        "outputId": "7849fc1f-7abf-4061-9fcd-0d32a43db70e"
      },
      "source": [
        "# Show some examples\n",
        "fig, axes = plt.subplots(2, 5, figsize=(10,5))\n",
        "axes = [ax for axs in axes for ax in axs]\n",
        "\n",
        "for j in range(5):\n",
        "    idx = np.random.randint(0, len(train_set))\n",
        "    axes[j].imshow(train_set[idx][0].permute(1,2,0)*0.5+0.5)\n",
        "    axes[j].axis('off')\n",
        "    axes[j].set_title('train labeled {}'.format(train_set[idx][1]))\n",
        "\n",
        "    idx = np.random.randint(0, len(unlabel_set))\n",
        "    img, label = unlabel_set[idx]\n",
        "    axes[j+5].imshow(img.permute(1,2,0)*0.5+0.5)\n",
        "    axes[j+5].axis('off')\n",
        "    axes[j+5].set_title('unlabeled rot {}'.format(label*90))\n",
        "plt.subplots_adjust(wspace=0.01)"
      ],
      "execution_count": null,
      "outputs": [
        {
          "output_type": "display_data",
          "data": {
            "image/png": "[encoded data removed]",
            "text/plain": [
              "<Figure size 720x360 with 10 Axes>"
            ]
          },
          "metadata": {
            "tags": [],
            "needs_background": "light"
          }
        }
      ]
    },
    {
      "cell_type": "markdown",
      "metadata": {
        "id": "ia5ZACbaAOai"
      },
      "source": [
        "# Define the CNN architecture"
      ]
    },
    {
      "cell_type": "code",
      "metadata": {
        "id": "n28aL-zYLTjB"
      },
      "source": [
        "class RotationNet(nn.Module):\n",
        "    def __init__(self, ndf=64, nc=3, num_classes=10):\n",
        "        super(RotationNet, self).__init__() \n",
        "        self.conv1 = nn.Sequential(\n",
        "            nn.Conv2d(nc, ndf, kernel_size=3, stride=1, padding=1),    \n",
        "            nn.MaxPool2d(kernel_size=2, stride=2), \n",
        "            nn.BatchNorm2d(ndf),\n",
        "            nn.ReLU(inplace=True)\n",
        "        )\n",
        "        self.conv2 = nn.Sequential( \n",
        "            nn.Conv2d(ndf, ndf*2, 3, 1), \n",
        "            nn.MaxPool2d(2, 2), \n",
        "            nn.BatchNorm2d(ndf*2),\n",
        "            nn.ReLU(inplace=True),\n",
        "            nn.Dropout(0.3)\n",
        "        )\n",
        "        self.conv3 = nn.Sequential( \n",
        "            nn.Conv2d(ndf*2, ndf*4, 3, 1), \n",
        "            nn.MaxPool2d(2, 1), \n",
        "            nn.BatchNorm2d(ndf*4),\n",
        "            nn.ReLU(inplace=True)\n",
        "        )\n",
        "        self.conv4 = nn.Sequential( \n",
        "            nn.Conv2d(ndf*4, ndf*8, 2, 1), \n",
        "            nn.BatchNorm2d(ndf*8),\n",
        "            nn.ReLU(inplace=True),\n",
        "            nn.Dropout(0.3)\n",
        "        )\n",
        "        self.classification_head = nn.Sequential(\n",
        "            nn.Conv2d(ndf*8, num_classes, 3, 1),\n",
        "        )\n",
        "        \n",
        "    def forward(self, img):\n",
        "        output = self.conv1(img)\n",
        "        output = self.conv2(output)\n",
        "        output = self.conv3(output)\n",
        "        output = self.conv4(output)\n",
        "        output = self.classification_head(output)\n",
        "        return output.squeeze(3).squeeze(2)"
      ],
      "execution_count": null,
      "outputs": []
    },
    {
      "cell_type": "markdown",
      "metadata": {
        "id": "e4Mow5DpAazU"
      },
      "source": [
        "# Train a self-supervised feature extractor"
      ]
    },
    {
      "cell_type": "code",
      "metadata": {
        "id": "bZyl-jBA81bD"
      },
      "source": [
        "def train_model(model, loader, criterion, optimizer, epochs=20):\n",
        "    for epoch in range(epochs):\n",
        "        running_loss = 0.0\n",
        "        correct = 0\n",
        "        total = 0\n",
        "        smooth = 0\n",
        "        model.train()\n",
        "        for i, data in enumerate(loader, 0):\n",
        "            # get the inputs; data is a list of [inputs, labels]\n",
        "            inputs, labels = data\n",
        "            inputs, labels = inputs.to(device), labels.to(device)\n",
        "\n",
        "            # zero the parameter gradients\n",
        "            optimizer.zero_grad()\n",
        "\n",
        "            # forward + backward + optimize\n",
        "            outputs = model(inputs)\n",
        "            loss = criterion(outputs, labels-smooth)\n",
        "            loss.backward()\n",
        "            optimizer.step()\n",
        "\n",
        "            # print statistics\n",
        "            running_loss += loss.item()\n",
        "\n",
        "            _, predicted = torch.max(outputs.data, 1)\n",
        "            total      += labels.size(0)\n",
        "            correct    += (predicted == labels).sum().item()\n",
        "\n",
        "            train_loss = running_loss / len(loader)\n",
        "            train_accuracy = 100 * correct / total\n",
        "\n",
        "        print('Epoch %2d. Accuracy of the network on the unlabelled images:: %.3f %%. And loss: %.3f' % (epoch+1, train_accuracy, train_loss))\n",
        "    return train_loss, train_accuracy"
      ],
      "execution_count": null,
      "outputs": []
    },
    {
      "cell_type": "code",
      "metadata": {
        "id": "6PAIgcX_oa3z"
      },
      "source": [
        "class LabelSmoothingCrossEntropy(nn.Module):\n",
        "    def __init__(self):\n",
        "        super(LabelSmoothingCrossEntropy, self).__init__()\n",
        "    def forward(self, x, target, smoothing=0.1):\n",
        "        confidence = 1. - smoothing\n",
        "        logprobs = F.log_softmax(x, dim=-1)\n",
        "        nll_loss = -logprobs.gather(dim=-1, index=target.unsqueeze(1))\n",
        "        nll_loss = nll_loss.squeeze(1)\n",
        "        smooth_loss = -logprobs.mean(dim=-1)\n",
        "        loss = confidence * nll_loss + smoothing * smooth_loss\n",
        "        return loss.mean()"
      ],
      "execution_count": null,
      "outputs": []
    },
    {
      "cell_type": "code",
      "metadata": {
        "id": "w8COOltW1o3c"
      },
      "source": [
        "model = RotationNet(num_classes=4).to(device)\n",
        "\n",
        "criterion = LabelSmoothingCrossEntropy()\n",
        "optimizer = optim.Adam(model.parameters(), lr=0.001)"
      ],
      "execution_count": null,
      "outputs": []
    },
    {
      "cell_type": "code",
      "metadata": {
        "colab": {
          "base_uri": "https://localhost:8080/"
        },
        "id": "jEqh867stUkq",
        "outputId": "d49eb05a-a26e-45fa-9ef8-b89b5dd66490"
      },
      "source": [
        "noise = torch.randn(16, 3, 32, 32, device=device)\n",
        "out = model(noise)\n",
        "print(\"Model output shape:\", out.size())"
      ],
      "execution_count": null,
      "outputs": [
        {
          "output_type": "stream",
          "text": [
            "Model output shape: torch.Size([16, 4])\n"
          ],
          "name": "stdout"
        }
      ]
    },
    {
      "cell_type": "code",
      "metadata": {
        "colab": {
          "base_uri": "https://localhost:8080/"
        },
        "id": "fuCybp5V88ir",
        "outputId": "5f9f0a1e-10af-4c02-8c9f-94946ad8b2da"
      },
      "source": [
        "train_model(model, unlabel_loader, criterion, optimizer, epochs=20)"
      ],
      "execution_count": null,
      "outputs": [
        {
          "output_type": "stream",
          "text": [
            "Epoch  1. Accuracy of the network on the unlabelled images:: 66.248 %. And loss: 0.917\n",
            "Epoch  2. Accuracy of the network on the unlabelled images:: 76.622 %. And loss: 0.748\n",
            "Epoch  3. Accuracy of the network on the unlabelled images:: 79.428 %. And loss: 0.706\n",
            "Epoch  4. Accuracy of the network on the unlabelled images:: 81.242 %. And loss: 0.679\n",
            "Epoch  5. Accuracy of the network on the unlabelled images:: 82.420 %. And loss: 0.661\n",
            "Epoch  6. Accuracy of the network on the unlabelled images:: 83.682 %. And loss: 0.645\n",
            "Epoch  7. Accuracy of the network on the unlabelled images:: 84.462 %. And loss: 0.633\n",
            "Epoch  8. Accuracy of the network on the unlabelled images:: 84.980 %. And loss: 0.625\n",
            "Epoch  9. Accuracy of the network on the unlabelled images:: 85.452 %. And loss: 0.616\n",
            "Epoch 10. Accuracy of the network on the unlabelled images:: 85.774 %. And loss: 0.609\n",
            "Epoch 11. Accuracy of the network on the unlabelled images:: 86.513 %. And loss: 0.603\n",
            "Epoch 12. Accuracy of the network on the unlabelled images:: 86.796 %. And loss: 0.597\n",
            "Epoch 13. Accuracy of the network on the unlabelled images:: 86.967 %. And loss: 0.594\n",
            "Epoch 14. Accuracy of the network on the unlabelled images:: 87.255 %. And loss: 0.590\n",
            "Epoch 15. Accuracy of the network on the unlabelled images:: 87.536 %. And loss: 0.585\n",
            "Epoch 16. Accuracy of the network on the unlabelled images:: 87.889 %. And loss: 0.580\n",
            "Epoch 17. Accuracy of the network on the unlabelled images:: 88.093 %. And loss: 0.577\n",
            "Epoch 18. Accuracy of the network on the unlabelled images:: 88.286 %. And loss: 0.574\n",
            "Epoch 19. Accuracy of the network on the unlabelled images:: 88.585 %. And loss: 0.571\n",
            "Epoch 20. Accuracy of the network on the unlabelled images:: 88.783 %. And loss: 0.569\n"
          ],
          "name": "stdout"
        },
        {
          "output_type": "execute_result",
          "data": {
            "text/plain": [
              "(0.5688370266098953, 88.7830936795051)"
            ]
          },
          "metadata": {
            "tags": []
          },
          "execution_count": 11
        }
      ]
    },
    {
      "cell_type": "code",
      "metadata": {
        "id": "Fa7J2r499dsi"
      },
      "source": [
        "# save the network parameters\n",
        "torch.save(model.state_dict(), './model_state.pth')"
      ],
      "execution_count": null,
      "outputs": []
    },
    {
      "cell_type": "markdown",
      "metadata": {
        "id": "grD7Q7bKAj2J"
      },
      "source": [
        "# Transfer learning"
      ]
    },
    {
      "cell_type": "code",
      "metadata": {
        "id": "m2cN_gH91C2V"
      },
      "source": [
        "def train_model_(model, loader, criterion, optimizer):\n",
        "    running_loss = 0.0\n",
        "    correct = 0\n",
        "    total = 0\n",
        "    for i, data in enumerate(loader, 0):\n",
        "        inputs, labels = data\n",
        "        inputs, labels = inputs.to(device), labels.to(device)\n",
        "        optimizer.zero_grad()\n",
        "        outputs = model(inputs)\n",
        "        loss = criterion(outputs, labels)\n",
        "        loss.backward()\n",
        "        optimizer.step()\n",
        "        running_loss += loss.item()\n",
        "        _, predicted = torch.max(outputs.data, 1)\n",
        "        total      += labels.size(0)\n",
        "        correct    += (predicted == labels).sum().item()\n",
        "        train_loss = running_loss / len(loader)\n",
        "        train_accuracy = 100 * correct / total\n",
        "    #print('Accuracy of the training: %.3f %%' % (train_accuracy))\n",
        "    return train_loss, train_accuracy\n",
        "\n",
        "def evaluate(model, val_loader, criterion):\n",
        "    correct = 0\n",
        "    total = 0\n",
        "    total_loss = 0\n",
        "    with torch.no_grad():\n",
        "        for data in val_loader:\n",
        "            inputs, labels = data\n",
        "            inputs = inputs.to(device)\n",
        "            labels = labels.to(device)          \n",
        "            outputs = model(inputs)\n",
        "            loss = criterion(outputs, labels)              \n",
        "            _, predicted = torch.max(outputs.data, 1)\n",
        "            total      += labels.size(0)\n",
        "            correct    += (predicted == labels).sum().item()\n",
        "            total_loss += loss.item()\n",
        "            val_loss = total_loss / len(val_loader)\n",
        "            val_accuracy = 100 * correct / total\n",
        "    \n",
        "    return val_loss, val_accuracy\n",
        "\n",
        "def train(model, train_loader, val_loader, criterion, optimizer, epochs=20):\n",
        "    train_losses = []\n",
        "    valid_losses = []\n",
        "    train_accuracies = []\n",
        "    valid_accuracies = []\n",
        "\n",
        "    best_valid_loss = np.inf\n",
        "    best_model = None\n",
        "    patience = 15\n",
        "    coutner  = 0\n",
        "\n",
        "    for epoch in range(epochs):\n",
        "        model.train()\n",
        "        train_loss, train_accuracy = train_model_(model, train_loader, criterion, optimizer)\n",
        "        model.eval()\n",
        "        valid_loss, valid_accuracy = evaluate(model, val_loader, criterion)\n",
        "        train_losses.append(train_loss)\n",
        "        valid_losses.append(valid_loss)\n",
        "        train_accuracies.append(train_accuracy)\n",
        "        valid_accuracies.append(valid_accuracy)\n",
        "        print('Epoch %2d. Accuracy of the network on the 2000 validation images: %.3f %%' % (epoch+1, valid_accuracy))\n",
        "\n",
        "        if valid_loss < best_valid_loss: # \n",
        "            best_valid_loss = valid_loss\n",
        "            best_model = deepcopy(model)\n",
        "            counter = 0\n",
        "        else: counter += 1\n",
        "        if counter == patience:      \n",
        "            print('No improvement for {} epochs, training stopped'.format(patience))\n",
        "            break\n",
        "    \n",
        "    for param1, param2 in zip(model.parameters(), best_model.parameters()):\n",
        "        param1.data = param2.data\n",
        "        \n",
        "    return train_losses, valid_losses, train_accuracies, valid_accuracies\n",
        "\n",
        "def plot(val_acc_fixed, val_acc_fintuned):\n",
        "    loss_curves = [val_acc_fixed, val_acc_fintuned]\n",
        "    reg_types   = ['fixed features', 'finetuned features']\n",
        "    plt.figure(figsize=(12,6))\n",
        "    for loss_curve in loss_curves:\n",
        "        plt.plot(np.arange(len(loss_curve)), loss_curve)\n",
        "    plt.title('Validation accuracies curves')\n",
        "    plt.xlabel('Epoch')\n",
        "    plt.ylabel('Accuracy')\n",
        "    plt.grid(True)\n",
        "    plt.legend(reg_types);"
      ],
      "execution_count": null,
      "outputs": []
    },
    {
      "cell_type": "markdown",
      "metadata": {
        "id": "ohlSul-okYZ4"
      },
      "source": [
        "### Fixed feature extractor"
      ]
    },
    {
      "cell_type": "code",
      "metadata": {
        "colab": {
          "base_uri": "https://localhost:8080/"
        },
        "id": "nyNBaBMoQsKX",
        "outputId": "f2354837-0955-4843-8d5b-96af631e4b0a"
      },
      "source": [
        "# load trained features\n",
        "state_dict = torch.load('./model_state.pth')\n",
        "newModel1 = RotationNet(num_classes=4).to(device)\n",
        "newModel1.load_state_dict(state_dict)"
      ],
      "execution_count": null,
      "outputs": [
        {
          "output_type": "execute_result",
          "data": {
            "text/plain": [
              "<All keys matched successfully>"
            ]
          },
          "metadata": {
            "tags": []
          },
          "execution_count": 14
        }
      ]
    },
    {
      "cell_type": "code",
      "metadata": {
        "colab": {
          "base_uri": "https://localhost:8080/"
        },
        "id": "20JmxRVNlf1W",
        "outputId": "986965cb-1844-4f6e-ba07-65a37e43559e"
      },
      "source": [
        "# extract features of the first 4 layers\n",
        "features = nn.Sequential(*(list(newModel1.children())[:4]))\n",
        "\n",
        "# freeze all model parameters\n",
        "for param in features.parameters():\n",
        "    param.requires_grad = False\n",
        "  \n",
        "# new final layer with 10 classes\n",
        "newModel1.classification_head = nn.Sequential(nn.Conv2d(512, 10, 3, 1)).to(device)\n",
        "\n",
        "criterion = nn.CrossEntropyLoss()\n",
        "optimizer = optim.Adam(newModel1.parameters(), lr=0.001)\n",
        "\n",
        "_, _, _, val_acc_fixed = train(newModel1, train_loader, val_loader, criterion, optimizer, epochs=20)"
      ],
      "execution_count": null,
      "outputs": [
        {
          "output_type": "stream",
          "text": [
            "Epoch  1. Accuracy of the network on the 2000 validation images: 47.700 %\n",
            "Epoch  2. Accuracy of the network on the 2000 validation images: 55.050 %\n",
            "Epoch  3. Accuracy of the network on the 2000 validation images: 60.550 %\n",
            "Epoch  4. Accuracy of the network on the 2000 validation images: 62.900 %\n",
            "Epoch  5. Accuracy of the network on the 2000 validation images: 65.700 %\n",
            "Epoch  6. Accuracy of the network on the 2000 validation images: 68.150 %\n",
            "Epoch  7. Accuracy of the network on the 2000 validation images: 70.050 %\n",
            "Epoch  8. Accuracy of the network on the 2000 validation images: 71.900 %\n",
            "Epoch  9. Accuracy of the network on the 2000 validation images: 72.700 %\n",
            "Epoch 10. Accuracy of the network on the 2000 validation images: 72.900 %\n",
            "Epoch 11. Accuracy of the network on the 2000 validation images: 73.550 %\n",
            "Epoch 12. Accuracy of the network on the 2000 validation images: 74.850 %\n",
            "Epoch 13. Accuracy of the network on the 2000 validation images: 75.500 %\n",
            "Epoch 14. Accuracy of the network on the 2000 validation images: 76.150 %\n",
            "Epoch 15. Accuracy of the network on the 2000 validation images: 76.850 %\n",
            "Epoch 16. Accuracy of the network on the 2000 validation images: 76.650 %\n",
            "Epoch 17. Accuracy of the network on the 2000 validation images: 77.550 %\n",
            "Epoch 18. Accuracy of the network on the 2000 validation images: 78.400 %\n",
            "Epoch 19. Accuracy of the network on the 2000 validation images: 78.800 %\n",
            "Epoch 20. Accuracy of the network on the 2000 validation images: 79.000 %\n"
          ],
          "name": "stdout"
        }
      ]
    },
    {
      "cell_type": "markdown",
      "metadata": {
        "id": "-Va-KROByIdS"
      },
      "source": [
        "### Finetuned feature extractor\n"
      ]
    },
    {
      "cell_type": "code",
      "metadata": {
        "colab": {
          "base_uri": "https://localhost:8080/"
        },
        "id": "RHaRvfSh4oFt",
        "outputId": "2cfa6e04-40a3-4838-a7b3-69588706126b"
      },
      "source": [
        "# load trained features\n",
        "state_dict = torch.load('./model_state.pth')\n",
        "newModel2 = RotationNet(num_classes=4).to(device)\n",
        "newModel2.load_state_dict(state_dict)"
      ],
      "execution_count": null,
      "outputs": [
        {
          "output_type": "execute_result",
          "data": {
            "text/plain": [
              "<All keys matched successfully>"
            ]
          },
          "metadata": {
            "tags": []
          },
          "execution_count": 26
        }
      ]
    },
    {
      "cell_type": "code",
      "metadata": {
        "colab": {
          "base_uri": "https://localhost:8080/"
        },
        "id": "jvVzEs4CZ2Yd",
        "outputId": "e53efdd3-280c-4bcd-ffc3-f35a46c0fb00"
      },
      "source": [
        "# extract features of the first 4 layers\n",
        "features = nn.Sequential(*(list(newModel2.children())[:4]))\n",
        "\n",
        "# unfreeze all model parameters\n",
        "for param in features.parameters():\n",
        "    param.requires_grad = True\n",
        "  \n",
        "# new final layer with 10 classes\n",
        "newModel2.classification_head = nn.Sequential(nn.Conv2d(512, 10, 3, 1)).to(device)\n",
        "\n",
        "criterion = nn.CrossEntropyLoss()\n",
        "optimizer = optim.Adam(newModel2.parameters(), lr=0.001)\n",
        "\n",
        "_, _, _, val_acc_finetuned = train(newModel2, train_loader, val_loader, criterion, optimizer, epochs=20)"
      ],
      "execution_count": null,
      "outputs": [
        {
          "output_type": "stream",
          "text": [
            "Epoch  1. Accuracy of the network on the 2000 validation images: 43.500 %\n",
            "Epoch  2. Accuracy of the network on the 2000 validation images: 56.650 %\n",
            "Epoch  3. Accuracy of the network on the 2000 validation images: 68.300 %\n",
            "Epoch  4. Accuracy of the network on the 2000 validation images: 77.100 %\n",
            "Epoch  5. Accuracy of the network on the 2000 validation images: 79.600 %\n",
            "Epoch  6. Accuracy of the network on the 2000 validation images: 81.150 %\n",
            "Epoch  7. Accuracy of the network on the 2000 validation images: 82.200 %\n",
            "Epoch  8. Accuracy of the network on the 2000 validation images: 82.100 %\n",
            "Epoch  9. Accuracy of the network on the 2000 validation images: 82.900 %\n",
            "Epoch 10. Accuracy of the network on the 2000 validation images: 82.200 %\n",
            "Epoch 11. Accuracy of the network on the 2000 validation images: 82.300 %\n",
            "Epoch 12. Accuracy of the network on the 2000 validation images: 82.650 %\n",
            "Epoch 13. Accuracy of the network on the 2000 validation images: 82.950 %\n",
            "Epoch 14. Accuracy of the network on the 2000 validation images: 83.200 %\n",
            "Epoch 15. Accuracy of the network on the 2000 validation images: 82.850 %\n",
            "Epoch 16. Accuracy of the network on the 2000 validation images: 82.650 %\n",
            "Epoch 17. Accuracy of the network on the 2000 validation images: 82.750 %\n",
            "Epoch 18. Accuracy of the network on the 2000 validation images: 83.150 %\n",
            "Epoch 19. Accuracy of the network on the 2000 validation images: 83.150 %\n",
            "Epoch 20. Accuracy of the network on the 2000 validation images: 83.400 %\n"
          ],
          "name": "stdout"
        }
      ]
    },
    {
      "cell_type": "code",
      "metadata": {
        "colab": {
          "base_uri": "https://localhost:8080/",
          "height": 404
        },
        "id": "JbRJdXHn71K_",
        "outputId": "c7d9cc8a-31fc-43e3-8381-7a56b86e387e"
      },
      "source": [
        "plot(val_acc_fixed, val_acc_finetuned)"
      ],
      "execution_count": null,
      "outputs": [
        {
          "output_type": "display_data",
          "data": {
            "image/png": "[encoded data removed]",
            "text/plain": [
              "<Figure size 864x432 with 1 Axes>"
            ]
          },
          "metadata": {
            "tags": [],
            "needs_background": "light"
          }
        }
      ]
    },
    {
      "cell_type": "code",
      "metadata": {
        "id": "EtmZwDeqFP9T"
      },
      "source": [
        ""
      ],
      "execution_count": null,
      "outputs": []
    }
  ]
}
