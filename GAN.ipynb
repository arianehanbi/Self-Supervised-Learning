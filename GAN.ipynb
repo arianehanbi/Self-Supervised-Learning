{
  "nbformat": 4,
  "nbformat_minor": 0,
  "metadata": {
    "accelerator": "GPU",
    "colab": {
      "name": "Copy of ATML21_Assignment3.ipynb",
      "provenance": [],
      "collapsed_sections": []
    },
    "kernelspec": {
      "display_name": "Python 3",
      "language": "python",
      "name": "python3"
    },
    "language_info": {
      "codemirror_mode": {
        "name": "ipython",
        "version": 3
      },
      "file_extension": ".py",
      "mimetype": "text/x-python",
      "name": "python",
      "nbconvert_exporter": "python",
      "pygments_lexer": "ipython3",
      "version": "3.9.2"
    }
  },
  "cells": [
    {
      "cell_type": "code",
      "metadata": {
        "id": "V6-_dU4fkR2j"
      },
      "source": [
        "import os\n",
        "import numpy as np\n",
        "from torch.utils.data import Dataset, DataLoader, Subset, random_split\n",
        "import torch\n",
        "import torch.nn as nn\n",
        "import torchvision.transforms as transforms\n",
        "import torch.optim as optim\n",
        "import torchvision.transforms.functional as TF\n",
        "\n",
        "import matplotlib.pyplot as plt\n",
        "import PIL.Image as Image\n",
        "import pandas as pd\n",
        "import random\n",
        "\n",
        "import torch.nn.init as init\n",
        "import torch.nn.functional as F\n",
        "from torch.autograd import Variable\n",
        "import torchvision.models as models\n",
        "from torchsummary import summary\n",
        "from copy import deepcopy\n",
        "\n",
        "device = torch.device(\"cuda:0\" if torch.cuda.is_available() else \"cpu\")"
      ],
      "execution_count": null,
      "outputs": []
    },
    {
      "cell_type": "markdown",
      "metadata": {
        "id": "yQRn2YSPpRsr"
      },
      "source": [
        "# Prepare the dataset"
      ]
    },
    {
      "cell_type": "code",
      "metadata": {
        "id": "RJqIEYWRpR-m"
      },
      "source": [
        "!gdown --id 13Q-n32Bkf8-njeTkV2c-MaWb5S0byowq\n",
        "!mkdir atml-assignment-3\n",
        "!unzip atml-assignment-3-data.zip -d atml-assignment-3"
      ],
      "execution_count": null,
      "outputs": []
    },
    {
      "cell_type": "code",
      "metadata": {
        "id": "OsfoZUSF67ct"
      },
      "source": [
        "class LabeledDataset(Dataset):\n",
        "    def __init__(self, folder_path, phase='train', transform=None):\n",
        "        super(LabeledDataset, self).__init__()\n",
        "        self.phase = phase\n",
        "        if self.phase == 'train':\n",
        "            file_path = os.path.join(folder_path, 'train_32x32_500_label.npz')\n",
        "        elif self.phase == 'val':\n",
        "            file_path = os.path.join(folder_path, 'test_32x32_2000_label.npz')\n",
        "        elif self.phase == 'test':\n",
        "            file_path = os.path.join(folder_path, 'test_32x32_competition.npy')\n",
        "        elif self.phase == 'unlabel':\n",
        "            file_path = os.path.join(folder_path, 'train_32x32_unlabel.npy')\n",
        "        else:\n",
        "            print('Unrecognized phase')\n",
        "        data_load = np.load(file_path)\n",
        "        \n",
        "        if self.phase != 'test':\n",
        "            self.dataset = data_load['img']\n",
        "            self.labels = data_load['label'].astype('int64')\n",
        "        else:\n",
        "            self.dataset = data_load\n",
        "            \n",
        "        self.transform = transform\n",
        "        \n",
        "    def __getitem__(self, index): \n",
        "        img_index = Image.fromarray(self.dataset[index,:])\n",
        "        if self.phase != 'test':\n",
        "            return self.transform(img_index), self.labels[index,0]\n",
        "        else:\n",
        "            return self.transform(img_index)\n",
        "\n",
        "    def __len__(self):\n",
        "        return self.dataset.shape[0]"
      ],
      "execution_count": null,
      "outputs": []
    },
    {
      "cell_type": "code",
      "metadata": {
        "id": "3kJQbFYN1bW2"
      },
      "source": [
        "transform = transforms.Compose([\n",
        "                                transforms.ColorJitter(0.2,0.4,0.5),\n",
        "                                transforms.ToTensor(),\n",
        "                                transforms.Normalize((0.5, 0.5, 0.5), (0.5, 0.5, 0.5))\n",
        "                                ])\n",
        "\n",
        "train_set = LabeledDataset('./atml-assignment-3', phase='train', transform=transform)\n",
        "val_set   = LabeledDataset('./atml-assignment-3', phase='val',   transform=transform)\n",
        "test_set  = LabeledDataset('./atml-assignment-3', phase='test',  transform=transform)\n",
        "unlabel_set = LabeledDataset('./atml-assignment-3', phase='unlabel', transform=transform)\n",
        "\n",
        "\n",
        "batch_size = 32\n",
        "train_loader = DataLoader(train_set, batch_size=batch_size, shuffle=True,  num_workers=2)\n",
        "val_loader   = DataLoader(val_set,   batch_size=batch_size, shuffle=False, num_workers=2)\n",
        "test_loader  = DataLoader(test_set,  batch_size=batch_size, shuffle=False, num_workers=2)\n",
        "unlabel_loader = DataLoader(unlabel_set, batch_size=batch_size, shuffle=True,  num_workers=2)"
      ],
      "execution_count": null,
      "outputs": []
    },
    {
      "cell_type": "code",
      "metadata": {
        "colab": {
          "base_uri": "https://localhost:8080/",
          "height": 306
        },
        "id": "o4B73vMKviwE",
        "outputId": "7849fc1f-7abf-4061-9fcd-0d32a43db70e"
      },
      "source": [
        "# Show some examples\n",
        "fig, axes = plt.subplots(2, 5, figsize=(10,5))\n",
        "axes = [ax for axs in axes for ax in axs]\n",
        "\n",
        "for j in range(5):\n",
        "    idx = np.random.randint(0, len(train_set))\n",
        "    axes[j].imshow(train_set[idx][0].permute(1,2,0)*0.5+0.5)\n",
        "    axes[j].axis('off')\n",
        "    axes[j].set_title('train labeled {}'.format(train_set[idx][1]))\n",
        "\n",
        "    idx = np.random.randint(0, len(unlabel_set))\n",
        "    img, label = unlabel_set[idx]\n",
        "    axes[j+5].imshow(img.permute(1,2,0)*0.5+0.5)\n",
        "    axes[j+5].axis('off')\n",
        "    axes[j+5].set_title('unlabeled rot {}'.format(label*90))\n",
        "plt.subplots_adjust(wspace=0.01)"
      ],
      "execution_count": null,
      "outputs": [
        {
          "output_type": "display_data",
          "data": {
            "image/png": "[encoded data removed]",
            "text/plain": [
              "<Figure size 720x360 with 10 Axes>"
            ]
          },
          "metadata": {
            "tags": [],
            "needs_background": "light"
          }
        }
      ]
    },
    {
      "cell_type": "markdown",
      "metadata": {
        "id": "grD7Q7bKAj2J"
      },
      "source": [
        "# Define the GAN architecture"
      ]
    },
    {
      "cell_type": "markdown",
      "metadata": {
        "id": "84OxgdMFFO20"
      },
      "source": [
        "\n",
        "\n",
        "**Unsupervised learning by training DCGAN Model**"
      ]
    },
    {
      "cell_type": "code",
      "metadata": {
        "id": "p97lJktSw-Y_"
      },
      "source": [
        "class Generator(nn.Module):\n",
        "\n",
        "    def __init__(self, z_dim=128, ngf=64):\n",
        "        super(Generator, self).__init__()\n",
        "        self.z_dim = z_dim\n",
        "        self.ngf = ngf\n",
        "\n",
        "        self.deconv1 = nn.Sequential( # output = (B, 128, 4, 4)\n",
        "            nn.ConvTranspose2d(z_dim, ngf * 4, (4, 4), bias=False),\n",
        "            nn.BatchNorm2d(ngf * 4),\n",
        "            nn.ReLU(inplace=True)\n",
        "        )\n",
        "        self.deconv2 = nn.Sequential( #output = (B, 64, 8, 8)\n",
        "            nn.ConvTranspose2d(ngf * 4, ngf * 2, (4, 4), stride=2, padding=1, bias=False),\n",
        "            nn.BatchNorm2d(ngf * 2),\n",
        "            nn.ReLU(inplace=True)\n",
        "        )\n",
        "        self.deconv3 = nn.Sequential( #output = (B, 32, 16, 16)\n",
        "            nn.ConvTranspose2d(ngf * 2, ngf, (4, 4), stride=2, padding=1, bias=False),\n",
        "            nn.BatchNorm2d(ngf),\n",
        "            nn.ReLU(inplace=True)\n",
        "        )\n",
        "        self.deconv4 = nn.Sequential( #output = (B, 3, 32, 32)\n",
        "            nn.ConvTranspose2d(ngf, 3, (4, 4), stride=2, padding=1, bias=False)\n",
        "        )\n",
        "\n",
        "    def forward(self, x):\n",
        "        x = self.deconv1(x)\n",
        "        x = self.deconv2(x)\n",
        "        x = self.deconv3(x)\n",
        "        x = torch.tanh(self.deconv4(x))\n",
        "        return x"
      ],
      "execution_count": null,
      "outputs": []
    },
    {
      "cell_type": "code",
      "metadata": {
        "id": "c86-mCYwxBg8"
      },
      "source": [
        "class Discriminator(nn.Module):\n",
        "\n",
        "    def __init__(self, ndf=64):\n",
        "        super(Discriminator, self).__init__()\n",
        "        self.ndf = ndf\n",
        "\n",
        "        self.conv1 = nn.Sequential( # output = (B, 64, 16, 16) \n",
        "            nn.Conv2d(3, ndf, kernel_size=(4, 4), stride=2, padding=1, bias=False),\n",
        "            nn.BatchNorm2d(ndf), #0.8\n",
        "            nn.LeakyReLU(0.2, inplace=True),\n",
        "            nn.Dropout2d(0.25)\n",
        "        )\n",
        "        self.conv2 = nn.Sequential( # output = (B, 128, 8, 8)\n",
        "            nn.Conv2d(ndf, ndf * 2, kernel_size=(4, 4), stride=2, padding=1, bias=False),\n",
        "            nn.BatchNorm2d(ndf * 2),\n",
        "            nn.LeakyReLU(0.2, inplace=True),\n",
        "            nn.Dropout2d(0.25)\n",
        "        )\n",
        "        self.conv3 = nn.Sequential( # output = (B, 256, 4, 4)\n",
        "            nn.Conv2d(ndf * 2, ndf * 4, kernel_size=(4, 4), stride=2, padding=1, bias=False),\n",
        "            nn.BatchNorm2d(ndf * 4),\n",
        "            nn.LeakyReLU(0.2, inplace=True),\n",
        "            nn.Dropout2d(0.25)\n",
        "        )\n",
        "        self.discriminator_head = nn.Sequential( # output = (B, 1, 1, 1)\n",
        "            nn.Conv2d(ndf * 4, 1, kernel_size=(4, 4), stride=1, padding=0, bias=False),\n",
        "            nn.Sigmoid()\n",
        "        )\n",
        "\n",
        "\n",
        "    def forward(self, x):\n",
        "        output = self.conv1(x)\n",
        "        output = self.conv2(output)\n",
        "        output = self.conv3(output)\n",
        "        output = self.discriminator_head(output)\n",
        "        return output.squeeze(3).squeeze(2).squeeze(1)"
      ],
      "execution_count": null,
      "outputs": []
    },
    {
      "cell_type": "code",
      "metadata": {
        "id": "Enruws_skly6"
      },
      "source": [
        "cuda_available = torch.cuda.is_available()\n",
        "\n",
        "generator = Generator()\n",
        "discriminator = Discriminator()\n",
        "if cuda_available:\n",
        "    generator = generator.cuda()\n",
        "    discriminator = discriminator.cuda()\n",
        "\n",
        "loss = nn.BCELoss()\n",
        "optimizer_g = torch.optim.Adam(generator.parameters(), lr=1e-3)\n",
        "optimizer_d = torch.optim.Adam(discriminator.parameters(), lr=1e-3)"
      ],
      "execution_count": null,
      "outputs": []
    },
    {
      "cell_type": "code",
      "metadata": {
        "colab": {
          "base_uri": "https://localhost:8080/"
        },
        "id": "7JjyFODkkl1m",
        "outputId": "7207cc1f-6426-4c0d-c0dd-b8c6bb5f4e96"
      },
      "source": [
        "ctr = 0\n",
        "z_dim = 128\n",
        "\n",
        "minibatch_disc_losses = []\n",
        "minibatch_gen_losses = []\n",
        "\n",
        "for epoch in range(20):\n",
        "    losses = []\n",
        "    for batch_idx, (inputs, _) in enumerate(unlabel_loader):\n",
        "        ctr += 1\n",
        "        if cuda_available:\n",
        "            inputs = inputs.cuda()\n",
        "        inputs = Variable(inputs.cuda())\n",
        "        \n",
        "        zeros = Variable(torch.zeros(inputs.size(0)))\n",
        "        ones  = Variable(torch.ones(inputs.size(0)))\n",
        "        if cuda_available:\n",
        "            zeros, ones = zeros.cuda(), ones.cuda()\n",
        "\n",
        "        # (1) Update Discriminator\n",
        "        # Sample z ~ N(0, 1)\n",
        "        minibatch_noise = Variable(torch.from_numpy(\n",
        "            np.random.randn(inputs.size(0), z_dim, 1, 1).astype(np.float32)))\n",
        "        if cuda_available:\n",
        "            minibatch_noise = minibatch_noise.cuda()\n",
        "        \n",
        "        # Zero gradients for the discriminator\n",
        "        optimizer_d.zero_grad()\n",
        "        \n",
        "        # Train with real examples\n",
        "        d_real = discriminator(inputs)\n",
        "        d_real_loss = loss(d_real, ones) \n",
        "        d_real_loss.backward()\n",
        "\n",
        "        # Train with fake examples from the generator\n",
        "        fake = generator(minibatch_noise).detach()  \n",
        "\n",
        "        d_fake = discriminator(fake)\n",
        "        d_fake_loss = loss(d_fake, zeros)  \n",
        "        d_fake_loss.backward()\n",
        "\n",
        "        minibatch_disc_losses.append(d_real_loss.item() + d_fake_loss.item())\n",
        "        \n",
        "        # Update the discriminator\n",
        "        optimizer_d.step()\n",
        "\n",
        "\n",
        "        # (2) Update Generator\n",
        "        # Zero gradients for the generator\n",
        "        optimizer_g.zero_grad()\n",
        "        \n",
        "        # Sample z ~ N(0, 1)\n",
        "        minibatch_noise = Variable(torch.from_numpy(\n",
        "            np.random.randn(inputs.size(0), z_dim, 1, 1).astype(np.float32)))\n",
        "        if cuda_available:\n",
        "            minibatch_noise = minibatch_noise.cuda()\n",
        "\n",
        "        d_fake = discriminator(generator(minibatch_noise))\n",
        "        g_loss = loss(d_fake, ones) \n",
        "        g_loss.backward()\n",
        "\n",
        "        # Update the generator\n",
        "        optimizer_g.step()\n",
        "        minibatch_gen_losses.append(g_loss.item())\n",
        "    \n",
        "    print('Generator loss : %.3f' % (np.mean(minibatch_gen_losses)))\n",
        "    print('Discriminator loss : %.3f' % (np.mean(minibatch_disc_losses)))"
      ],
      "execution_count": null,
      "outputs": [
        {
          "output_type": "stream",
          "text": [
            "Generator loss : 10.186\n",
            "Discriminator loss : 0.178\n",
            "Generator loss : 7.310\n",
            "Discriminator loss : 0.338\n",
            "Generator loss : 6.404\n",
            "Discriminator loss : 0.390\n",
            "Generator loss : 5.563\n",
            "Discriminator loss : 0.474\n",
            "Generator loss : 5.138\n",
            "Discriminator loss : 0.497\n",
            "Generator loss : 4.760\n",
            "Discriminator loss : 0.535\n",
            "Generator loss : 4.392\n",
            "Discriminator loss : 0.588\n",
            "Generator loss : 4.070\n",
            "Discriminator loss : 0.639\n",
            "Generator loss : 3.819\n",
            "Discriminator loss : 0.675\n",
            "Generator loss : 3.614\n",
            "Discriminator loss : 0.704\n",
            "Generator loss : 3.448\n",
            "Discriminator loss : 0.728\n",
            "Generator loss : 3.309\n",
            "Discriminator loss : 0.746\n",
            "Generator loss : 3.196\n",
            "Discriminator loss : 0.760\n",
            "Generator loss : 3.095\n",
            "Discriminator loss : 0.773\n",
            "Generator loss : 3.004\n",
            "Discriminator loss : 0.787\n",
            "Generator loss : 2.921\n",
            "Discriminator loss : 0.800\n",
            "Generator loss : 2.847\n",
            "Discriminator loss : 0.810\n",
            "Generator loss : 2.782\n",
            "Discriminator loss : 0.820\n",
            "Generator loss : 2.722\n",
            "Discriminator loss : 0.829\n",
            "Generator loss : 2.668\n",
            "Discriminator loss : 0.837\n"
          ],
          "name": "stdout"
        }
      ]
    },
    {
      "cell_type": "code",
      "metadata": {
        "colab": {
          "base_uri": "https://localhost:8080/",
          "height": 275
        },
        "id": "UTYYNUACkl45",
        "outputId": "03ab1608-534f-47a1-d141-4a5486b87f60"
      },
      "source": [
        "# Set generator in evaluation mode to use running means and averages for Batchnorm\n",
        "generator.eval()\n",
        "\n",
        "# Sample z ~ N(0, 1)\n",
        "minibatch_noise = Variable(torch.from_numpy(np.random.randn(32, z_dim, 1, 1).astype(np.float32)))\n",
        "if cuda_available:\n",
        "    minibatch_noise = minibatch_noise.cuda()\n",
        "\n",
        "fakes = generator(minibatch_noise)\n",
        "\n",
        "fig = plt.figure(figsize=(10, 5))\n",
        "for ind, fake in enumerate(fakes[:10]):\n",
        "    fig.add_subplot(2, 5, ind+1)\n",
        "    plt.imshow(fakes[ind].detach().permute(1,2,0).cpu().numpy()*0.5+0.5)\n",
        "    plt.axis('off')"
      ],
      "execution_count": null,
      "outputs": [
        {
          "output_type": "display_data",
          "data": {
            "image/png": "[encoded data removed]",
            "text/plain": [
              "<Figure size 720x360 with 10 Axes>"
            ]
          },
          "metadata": {
            "tags": [],
            "needs_background": "light"
          }
        }
      ]
    },
    {
      "cell_type": "markdown",
      "metadata": {
        "id": "3tTZnocQo3id"
      },
      "source": [
        "# Transfer learning "
      ]
    },
    {
      "cell_type": "markdown",
      "metadata": {
        "id": "-YnY6ozTpC8j"
      },
      "source": [
        "### Fixed features"
      ]
    },
    {
      "cell_type": "code",
      "metadata": {
        "colab": {
          "base_uri": "https://localhost:8080/"
        },
        "id": "MbTSEO63kl_s",
        "outputId": "eb956299-58e7-4eaa-aacf-9c8e0c602f61"
      },
      "source": [
        "# extract features\n",
        "features = nn.Sequential(*(list(discriminator.children())[:4]))\n",
        "\n",
        "# freeze all model parameters\n",
        "for param in features.parameters():\n",
        "    param.requires_grad = False\n",
        "\n",
        "# new final layer with 10 classes\n",
        "discriminator.discriminator_head = nn.Conv2d(256, 10, 4, 1, 0).to(device)\n",
        "\n",
        "criterion = nn.CrossEntropyLoss()\n",
        "optimizer = optim.Adam(discriminator.parameters(), lr=0.001)\n",
        "\n",
        "train_model(discriminator, train_loader, criterion, optimizer, epochs=20)\n",
        "\n",
        "evaluate(discriminator, val_loader, criterion)"
      ],
      "execution_count": null,
      "outputs": [
        {
          "output_type": "stream",
          "text": [
            "Epoch  1. Accuracy: 35.200 %. And loss: 1.925\n",
            "Epoch  2. Accuracy: 66.400 %. And loss: 1.233\n",
            "Epoch  3. Accuracy: 80.400 %. And loss: 0.911\n",
            "Epoch  4. Accuracy: 82.600 %. And loss: 0.756\n",
            "Epoch  5. Accuracy: 87.000 %. And loss: 0.657\n",
            "Epoch  6. Accuracy: 88.600 %. And loss: 0.607\n",
            "Epoch  7. Accuracy: 90.800 %. And loss: 0.510\n",
            "Epoch  8. Accuracy: 90.400 %. And loss: 0.478\n",
            "Epoch  9. Accuracy: 93.800 %. And loss: 0.420\n",
            "Epoch 10. Accuracy: 93.200 %. And loss: 0.388\n",
            "Epoch 11. Accuracy: 94.200 %. And loss: 0.375\n",
            "Epoch 12. Accuracy: 93.600 %. And loss: 0.352\n",
            "Epoch 13. Accuracy: 93.200 %. And loss: 0.363\n",
            "Epoch 14. Accuracy: 94.600 %. And loss: 0.319\n",
            "Epoch 15. Accuracy: 94.400 %. And loss: 0.332\n",
            "Epoch 16. Accuracy: 96.400 %. And loss: 0.274\n",
            "Epoch 17. Accuracy: 95.400 %. And loss: 0.288\n",
            "Epoch 18. Accuracy: 96.400 %. And loss: 0.255\n",
            "Epoch 19. Accuracy: 96.200 %. And loss: 0.249\n",
            "Epoch 20. Accuracy: 95.600 %. And loss: 0.246\n",
            "Accuracy of the network on the 2000 validation images: 62.100 %\n",
            "Val loss 1.2797002385533045\n"
          ],
          "name": "stdout"
        },
        {
          "output_type": "execute_result",
          "data": {
            "text/plain": [
              "(1.2797002385533045, 62.1)"
            ]
          },
          "metadata": {
            "tags": []
          },
          "execution_count": 69
        }
      ]
    },
    {
      "cell_type": "markdown",
      "metadata": {
        "id": "uVhvMUJOpF00"
      },
      "source": [
        "### Finetuned features"
      ]
    },
    {
      "cell_type": "code",
      "metadata": {
        "colab": {
          "base_uri": "https://localhost:8080/"
        },
        "id": "YWoPQmdepF5y",
        "outputId": "4a6bd284-5d68-49ec-cf09-f6a8bdbcb936"
      },
      "source": [
        "# extract features\n",
        "features = nn.Sequential(*(list(discriminator.children())[:4]))\n",
        "\n",
        "# freeze all model parameters\n",
        "for param in features.parameters():\n",
        "    param.requires_grad = True\n",
        "\n",
        "# new final layer with 10 classes\n",
        "discriminator.discriminator_head = nn.Conv2d(256, 10, 4, 1, 0).to(device)\n",
        "\n",
        "criterion = nn.CrossEntropyLoss()\n",
        "optimizer = optim.Adam(discriminator.parameters(), lr=0.001)\n",
        "\n",
        "train_model(discriminator, train_loader, criterion, optimizer, epochs=20)\n",
        "\n",
        "evaluate(discriminator, val_loader, criterion)"
      ],
      "execution_count": null,
      "outputs": [
        {
          "output_type": "stream",
          "text": [
            "Epoch  1. Accuracy: 34.800 %. And loss: 1.890\n",
            "Epoch  2. Accuracy: 69.800 %. And loss: 1.183\n",
            "Epoch  3. Accuracy: 79.600 %. And loss: 0.862\n",
            "Epoch  4. Accuracy: 86.800 %. And loss: 0.676\n",
            "Epoch  5. Accuracy: 86.000 %. And loss: 0.583\n",
            "Epoch  6. Accuracy: 89.400 %. And loss: 0.507\n",
            "Epoch  7. Accuracy: 92.400 %. And loss: 0.415\n",
            "Epoch  8. Accuracy: 93.200 %. And loss: 0.356\n",
            "Epoch  9. Accuracy: 93.800 %. And loss: 0.299\n",
            "Epoch 10. Accuracy: 94.200 %. And loss: 0.302\n",
            "Epoch 11. Accuracy: 96.200 %. And loss: 0.257\n",
            "Epoch 12. Accuracy: 96.200 %. And loss: 0.226\n",
            "Epoch 13. Accuracy: 96.000 %. And loss: 0.212\n",
            "Epoch 14. Accuracy: 96.600 %. And loss: 0.185\n",
            "Epoch 15. Accuracy: 96.600 %. And loss: 0.169\n",
            "Epoch 16. Accuracy: 96.600 %. And loss: 0.162\n",
            "Epoch 17. Accuracy: 97.600 %. And loss: 0.133\n",
            "Epoch 18. Accuracy: 98.600 %. And loss: 0.116\n",
            "Epoch 19. Accuracy: 98.600 %. And loss: 0.122\n",
            "Epoch 20. Accuracy: 98.200 %. And loss: 0.096\n",
            "Accuracy of the network on the 2000 validation images: 62.800 %\n",
            "Val loss 1.3757436445781164\n"
          ],
          "name": "stdout"
        },
        {
          "output_type": "execute_result",
          "data": {
            "text/plain": [
              "(1.3757436445781164, 62.8)"
            ]
          },
          "metadata": {
            "tags": []
          },
          "execution_count": 70
        }
      ]
    },
    {
      "cell_type": "code",
      "metadata": {
        "id": "EtmZwDeqFP9T"
      },
      "source": [
        ""
      ],
      "execution_count": null,
      "outputs": []
    }
  ]
}